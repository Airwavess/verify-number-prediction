{
 "cells": [
  {
   "cell_type": "markdown",
   "metadata": {},
   "source": [
    "# 資料前處理: 將 0~9 的 trainning data 匯入"
   ]
  },
  {
   "cell_type": "code",
   "execution_count": 3,
   "metadata": {},
   "outputs": [],
   "source": [
    "import matplotlib.pyplot as plt\n",
    "import os\n",
    "import PIL\n",
    "import numpy\n",
    "\n",
    "digits = list()\n",
    "labels = list()\n",
    "basewidth = 50\n",
    "fig = plt.figure(figsize = (20, 20))\n",
    "cnt = 0\n",
    "fig.subplots_adjust(left=0, right=1, bottom=0, top=1, hspace=0.05, wspace=0.05)\n",
    "for i in range(0, 10):\n",
    "    for img in os.listdir('{}/'.format(i)):\n",
    "        pil_image = PIL.Image.open('{}/{}'.format(i, img)).convert('1')\n",
    "        \n",
    "        wpercent = (basewidth/float(pil_image.size[0]))\n",
    "        hsize = int((float(pil_image.size[1]))*float(wpercent))\n",
    "        img = pil_image.resize((basewidth, hsize), PIL.Image.ANTIALIAS)\n",
    "        \n",
    "        ax = fig.add_subplot(10, 12, cnt+1, xticks=[], yticks=[])\n",
    "        ax.imshow(img, cmap=plt.cm.binary, interpolation='nearest')\n",
    "        ax.text(0, 7, str(i), color='red', fontsize=20)\n",
    "        cnt = cnt + 1\n",
    "        \n",
    "        digits.append([pixel for pixel in iter(img.getdata())])\n",
    "        labels.append(i)"
   ]
  },
  {
   "cell_type": "markdown",
   "metadata": {},
   "source": [
    "# 資料標準化"
   ]
  },
  {
   "cell_type": "code",
   "execution_count": 4,
   "metadata": {},
   "outputs": [
    {
     "name": "stderr",
     "output_type": "stream",
     "text": [
      "c:\\users\\kevin_lo\\appdata\\local\\programs\\python\\python36-32\\lib\\site-packages\\sklearn\\utils\\validation.py:475: DataConversionWarning: Data with input dtype int32 was converted to float64 by StandardScaler.\n",
      "  warnings.warn(msg, DataConversionWarning)\n"
     ]
    }
   ],
   "source": [
    "import numpy\n",
    "from sklearn.preprocessing import StandardScaler\n",
    "\n",
    "digit_array = numpy.array(digits)\n",
    "scaler = StandardScaler()\n",
    "scaler.fit(digit_array)\n",
    "X_scaled = scaler.transform(digit_array)"
   ]
  },
  {
   "cell_type": "markdown",
   "metadata": {},
   "source": [
    "# 建立模型"
   ]
  },
  {
   "cell_type": "code",
   "execution_count": 5,
   "metadata": {
    "scrolled": true
   },
   "outputs": [
    {
     "data": {
      "text/plain": [
       "MLPClassifier(activation='logistic', alpha=0.0001, batch_size='auto',\n",
       "       beta_1=0.9, beta_2=0.999, early_stopping=False, epsilon=1e-08,\n",
       "       hidden_layer_sizes=(30, 30, 30), learning_rate='constant',\n",
       "       learning_rate_init=0.001, max_iter=10000, momentum=0.9,\n",
       "       nesterovs_momentum=True, power_t=0.5, random_state=None,\n",
       "       shuffle=True, solver='adam', tol=0.0001, validation_fraction=0.1,\n",
       "       verbose=False, warm_start=False)"
      ]
     },
     "execution_count": 5,
     "metadata": {},
     "output_type": "execute_result"
    }
   ],
   "source": [
    "from sklearn.neural_network import MLPClassifier\n",
    "\n",
    "mlp = MLPClassifier(hidden_layer_sizes=(30, 30, 30), activation='logistic', max_iter=10000)\n",
    "mlp.fit(X_scaled, labels)"
   ]
  },
  {
   "cell_type": "markdown",
   "metadata": {},
   "source": [
    "# 將模型儲存成 pickle"
   ]
  },
  {
   "cell_type": "code",
   "execution_count": 6,
   "metadata": {},
   "outputs": [
    {
     "data": {
      "text/plain": [
       "['captcha.pkl']"
      ]
     },
     "execution_count": 6,
     "metadata": {},
     "output_type": "execute_result"
    }
   ],
   "source": [
    "from sklearn.externals import joblib\n",
    "\n",
    "joblib.dump(mlp, 'captcha.pkl')"
   ]
  },
  {
   "cell_type": "markdown",
   "metadata": {},
   "source": [
    "# 從 pickle 讀取模型"
   ]
  },
  {
   "cell_type": "code",
   "execution_count": 7,
   "metadata": {},
   "outputs": [],
   "source": [
    "clf = joblib.load('captcha.pkl')"
   ]
  },
  {
   "cell_type": "markdown",
   "metadata": {},
   "source": [
    "# 存取網頁上的驗證碼"
   ]
  },
  {
   "cell_type": "code",
   "execution_count": 8,
   "metadata": {},
   "outputs": [],
   "source": [
    "import requests\n",
    "with open('kaptcha.jpg', 'wb') as f:\n",
    "    res = requests.get('https://gcis.nat.gov.tw/pub/kaptcha.jpg')\n",
    "    f.write(res.content)"
   ]
  },
  {
   "cell_type": "code",
   "execution_count": 9,
   "metadata": {},
   "outputs": [
    {
     "data": {
      "image/png": "[encoded data removed]",
      "text/plain": [
       "<PIL.JpegImagePlugin.JpegImageFile image mode=RGB size=120x40 at 0x1499EFB0>"
      ]
     },
     "execution_count": 9,
     "metadata": {},
     "output_type": "execute_result"
    }
   ],
   "source": [
    "from PIL import Image\n",
    "image = Image.open('kaptcha.jpg')\n",
    "image"
   ]
  },
  {
   "cell_type": "markdown",
   "metadata": {},
   "source": [
    "# 建立驗證碼儲存與切割函式"
   ]
  },
  {
   "cell_type": "code",
   "execution_count": 10,
   "metadata": {},
   "outputs": [],
   "source": [
    "import cv2\n",
    "import gc\n",
    "import sys\n",
    "\n",
    "\n",
    "def saveKaptcha(image, dest):\n",
    "    pil_image = PIL.Image.open('kaptcha.jpg').convert('RGB')\n",
    "    plt.imshow(pil_image)\n",
    "    \n",
    "    open_cv_image = numpy.array(pil_image)\n",
    "    imgray = cv2.cvtColor(open_cv_image, cv2.COLOR_BGR2GRAY)  # 轉換成灰階\n",
    "    ret, thresh = cv2.threshold(imgray, 127, 255, 0)  # 使用域值(threshold)將影像二值化\n",
    "    image, contours, hierarchy = cv2.findContours(thresh, cv2.RETR_TREE, cv2.CHAIN_APPROX_SIMPLE)  # 搜尋物體的輪廓\n",
    "\n",
    "    cnts = sorted([(c, cv2.boundingRect(c)[0]) for c in contours], key=lambda x:x[1])  # 排序將所有物體的輪廓數值\n",
    "\n",
    "    array = []\n",
    "    \n",
    "    # 將數字的輪廓存進 array\n",
    "    for (c, _) in cnts:\n",
    "        (x, y, w, h) = cv2.boundingRect(c)\n",
    "        if h == 24:\n",
    "            array.append((x,y,w,h))\n",
    "    \n",
    "    # 將數字輸出圖檔\n",
    "    figure = plt.figure()\n",
    "    for id, (x, y, w, h) in enumerate(array):\n",
    "        roi = open_cv_image[y:y+h, x:x+w]\n",
    "        thresh = roi.copy()\n",
    "        plt.imshow(thresh)\n",
    "        plt.savefig(os.path.join(dest, '{}.jpg'.format(id)), dpi=100)\n",
    "        plt.close()\n",
    "    gc.collect(2)\n",
    "    sys.exit(0)\n"
   ]
  },
  {
   "cell_type": "code",
   "execution_count": 11,
   "metadata": {},
   "outputs": [],
   "source": [
    "def predictKaptcha(dest):\n",
    "    data = list()\n",
    "    \n",
    "    for index, img in enumerate(os.listdir(dest)):\n",
    "        pil_image = PIL.Image.open(os.path.join(dest, '{}'.format(img))).convert('1')\n",
    "\n",
    "        wpercent = (basewidth/float(pil_image.size[0]))\n",
    "        hsize = int((float(pil_image.size[1])*float(wpercent)))\n",
    "        img = pil_image.resize((basewidth, hsize), PIL.Image.ANTIALIAS)\n",
    "        data.append([pixel for pixel in iter(img.getdata())])\n",
    "    \n",
    "    digits_array = numpy.array(data)\n",
    "    scaler.fit(digits_array)\n",
    "    data_scaled = scaler.transform(digits_array)\n",
    "    return clf.predict(data_scaled)"
   ]
  },
  {
   "cell_type": "code",
   "execution_count": 12,
   "metadata": {},
   "outputs": [],
   "source": [
    "def getKaptcha():\n",
    "    from selenium import webdriver\n",
    "    \n",
    "    driver = webdriver.Chrome('chromedriver.exe')\n",
    "\n",
    "    driver.get('http://gcis.nat.gov.tw/pub/cmpy/cmpyInfoListAction.do')\n",
    "\n",
    "    driver.save_screenshot('test.png')\n",
    "\n",
    "    element = driver.find_element_by_id('kaptcha')\n",
    "\n",
    "    left = element.location['x']\n",
    "    \n",
    "    right = element.location['x'] + element.size['width']\n",
    "    \n",
    "    top = element.location['y']\n",
    "    \n",
    "    bottom = element.location['y'] + element.size['height']\n",
    "\n",
    "    from PIL import Image\n",
    "    \n",
    "    img = Image.open('test.png')\n",
    "    \n",
    "    img = img.crop((left, top, right, bottom))\n",
    "    \n",
    "    img.save('kaptcha.jpg', 'jpeg')"
   ]
  },
  {
   "cell_type": "code",
   "execution_count": 13,
   "metadata": {
    "scrolled": false
   },
   "outputs": [
    {
     "ename": "SystemExit",
     "evalue": "0",
     "output_type": "error",
     "traceback": [
      "An exception has occurred, use %tb to see the full traceback.\n",
      "\u001b[1;31mSystemExit\u001b[0m\u001b[1;31m:\u001b[0m 0\n"
     ]
    },
    {
     "name": "stderr",
     "output_type": "stream",
     "text": [
      "c:\\users\\kevin_lo\\appdata\\local\\programs\\python\\python36-32\\lib\\site-packages\\IPython\\core\\interactiveshell.py:2918: UserWarning: To exit: use 'exit', 'quit', or Ctrl-D.\n",
      "  warn(\"To exit: use 'exit', 'quit', or Ctrl-D.\", stacklevel=1)\n"
     ]
    }
   ],
   "source": [
    "from selenium import webdriver\n",
    "import time\n",
    "from PIL import Image\n",
    "# driver = webdriver.Chrome('chromedriver.exe')\n",
    "driver = webdriver.Firefox(executable_path=r'geckodriver.exe')\n",
    "\n",
    "success = 0\n",
    "error = 0\n",
    "num = 1000\n",
    "t = 0\n",
    "\n",
    "for num in range(num):\n",
    "    if t == 0:\n",
    "        driver.get('http://gcis.nat.gov.tw/pub/cmpy/cmpyInfoListAction.do')\n",
    "\n",
    "    driver.save_screenshot('test.png')\n",
    "\n",
    "    element = driver.find_element_by_id('kaptcha')\n",
    "\n",
    "    left = element.location['x']\n",
    "\n",
    "    right = element.location['x'] + element.size['width']\n",
    "\n",
    "    top = element.location['y']\n",
    "\n",
    "    bottom = element.location['y'] + element.size['height']\n",
    "\n",
    "    img = Image.open('test.png')\n",
    "\n",
    "    img = img.crop((left, top, right, bottom))\n",
    "\n",
    "    img.convert(\"RGB\").save('kaptcha.jpg', 'JPEG')\n",
    "    \n",
    "    img.close()\n",
    "    \n",
    "    saveKaptcha('kaptcha.jpg', 'imagedata')\n",
    "\n",
    "    kaptcha = predictKaptcha('imagedata')\n",
    "\n",
    "#     print(kaptcha)\n",
    "\n",
    "    el = driver.find_element_by_name('queryStr')\n",
    "    if el.get_attribute('value') != '':\n",
    "        el.clear()\n",
    "\n",
    "    driver.find_element_by_name('queryStr').send_keys('台灣積體電路')\n",
    "\n",
    "    kaptcha = ''.join([str(i) for i in kaptcha])\n",
    "\n",
    "    driver.find_element_by_name('imageCode').send_keys(kaptcha)\n",
    "\n",
    "    driver.find_element_by_name('submitData').click()\n",
    "    time.sleep(1)\n",
    "    try:\n",
    "        driver.find_element_by_id('kaptcha')\n",
    "        error = error + 1\n",
    "        t = 1\n",
    "    except:\n",
    "        success = success + 1\n",
    "        t = 0\n",
    "        pass\n",
    "    \n",
    "driver.quit()\n",
    "avg = success / num\n",
    "print(round(avg,2))\n",
    "print(success)"
   ]
  },
  {
   "cell_type": "code",
   "execution_count": 3,
   "metadata": {},
   "outputs": [],
   "source": [
    "import matplotlib.pyplot as plt\n",
    "import os\n",
    "import PIL\n",
    "import numpy\n",
    "from sklearn.preprocessing import StandardScaler\n",
    "from sklearn.externals import joblib\n",
    "from PIL import Image\n",
    "\n",
    "clf = joblib.load('captcha.pkl')\n",
    "\n",
    "import cv2\n",
    "\n",
    "\n",
    "def saveKaptcha(image, dest):\n",
    "    \"\"\"\n",
    "    將驗證碼中的數字個別切割，並儲存成圖檔\n",
    "    \"\"\"\n",
    "    pil_image = PIL.Image.open('kaptcha.jpg').convert('RGB')\n",
    "    plt.imshow(pil_image)\n",
    "    \n",
    "    open_cv_image = numpy.array(pil_image)\n",
    "    imgray = cv2.cvtColor(open_cv_image, cv2.COLOR_BGR2GRAY)  # 轉換成灰階\n",
    "    ret, thresh = cv2.threshold(imgray, 127, 255, 0)  # 使用域值(threshold)將影像二值化\n",
    "    image, contours, hierarchy = cv2.findContours(thresh, cv2.RETR_TREE, cv2.CHAIN_APPROX_SIMPLE)  # 搜尋物體的輪廓\n",
    "\n",
    "    cnts = sorted([(c, cv2.boundingRect(c)[0]) for c in contours], key=lambda x:x[1])  # 排序將所有物體的輪廓數值\n",
    "\n",
    "    array = []\n",
    "    \n",
    "    # 將數字的輪廓存進 array\n",
    "    for (c, _) in cnts:\n",
    "        (x, y, w, h) = cv2.boundingRect(c)\n",
    "        if h == 24:\n",
    "            array.append((x,y,w,h))\n",
    "    \n",
    "    # 將數字輸出圖檔\n",
    "    figure = plt.figure()\n",
    "    for id, (x, y, w, h) in enumerate(array):\n",
    "        roi = open_cv_image[y:y+h, x:x+w]\n",
    "        thresh = roi.copy()\n",
    "        plt.imshow(thresh)\n",
    "        plt.savefig(os.path.join(dest, '{}.jpg'.format(id)), dpi=100)\n",
    "        plt.close()\n",
    "    plt.close()\n",
    "    pil_image.close()\n",
    "        \n",
    "def predictKaptcha(dest):\n",
    "    \"\"\"\n",
    "    預測驗證碼\n",
    "    \"\"\"\n",
    "    data = list()\n",
    "    \n",
    "    for index, img in enumerate(os.listdir(dest)):\n",
    "        pil_image = PIL.Image.open(os.path.join(dest, '{}'.format(img))).convert('1')\n",
    "        \n",
    "        basewidth = 50\n",
    "        wpercent = (basewidth/float(pil_image.size[0]))\n",
    "        hsize = int((float(pil_image.size[1])*float(wpercent)))\n",
    "        img = pil_image.resize((basewidth, hsize), PIL.Image.ANTIALIAS)\n",
    "        data.append([pixel for pixel in iter(img.getdata())])\n",
    "        pil_image.close()\n",
    "    \n",
    "    digits_array = numpy.array(data)\n",
    "    scaler = StandardScaler()\n",
    "    scaler.fit(digits_array)\n",
    "    data_scaled = scaler.transform(digits_array)\n",
    "    return clf.predict(data_scaled)\n",
    "\n",
    "\n",
    "def getVerificationCode(driver):\n",
    "    \"\"\"\n",
    "    使用Selenium取得網頁上的驗證碼\n",
    "    \"\"\"\n",
    "    driver.save_screenshot('test.png')\n",
    "\n",
    "    element = driver.find_element_by_id('kaptcha')\n",
    "\n",
    "    left = element.location['x']\n",
    "\n",
    "    right = element.location['x'] + element.size['width']\n",
    "\n",
    "    top = element.location['y']\n",
    "\n",
    "    bottom = element.location['y'] + element.size['height']\n",
    "\n",
    "    img = Image.open('test.png')\n",
    "\n",
    "    img = img.crop((left, top, right, bottom))\n",
    "\n",
    "    img.convert(\"RGB\").save('kaptcha.jpg', 'JPEG')\n",
    "    \n",
    "    img.close()"
   ]
  },
  {
   "cell_type": "code",
   "execution_count": 10,
   "metadata": {
    "scrolled": true
   },
   "outputs": [
    {
     "name": "stderr",
     "output_type": "stream",
     "text": [
      "c:\\users\\kevin_lo\\appdata\\local\\programs\\python\\python36-32\\lib\\site-packages\\sklearn\\utils\\validation.py:475: DataConversionWarning: Data with input dtype int32 was converted to float64 by StandardScaler.\n",
      "  warnings.warn(msg, DataConversionWarning)\n"
     ]
    },
    {
     "ename": "KeyboardInterrupt",
     "evalue": "",
     "output_type": "error",
     "traceback": [
      "\u001b[1;31m---------------------------------------------------------------------------\u001b[0m",
      "\u001b[1;31mKeyboardInterrupt\u001b[0m                         Traceback (most recent call last)",
      "\u001b[1;32m<ipython-input-10-4cb181cecf3e>\u001b[0m in \u001b[0;36m<module>\u001b[1;34m()\u001b[0m\n\u001b[0;32m     48\u001b[0m     \u001b[0mprint\u001b[0m\u001b[1;33m(\u001b[0m\u001b[0msuccess\u001b[0m\u001b[1;33m)\u001b[0m\u001b[1;33m\u001b[0m\u001b[0m\n\u001b[0;32m     49\u001b[0m \u001b[1;33m\u001b[0m\u001b[0m\n\u001b[1;32m---> 50\u001b[1;33m \u001b[0m__init__\u001b[0m\u001b[1;33m(\u001b[0m\u001b[1;36m100\u001b[0m\u001b[1;33m)\u001b[0m\u001b[1;33m\u001b[0m\u001b[0m\n\u001b[0m",
      "\u001b[1;32m<ipython-input-10-4cb181cecf3e>\u001b[0m in \u001b[0;36m__init__\u001b[1;34m(num)\u001b[0m\n\u001b[0;32m     33\u001b[0m \u001b[1;33m\u001b[0m\u001b[0m\n\u001b[0;32m     34\u001b[0m         \u001b[0mdriver\u001b[0m\u001b[1;33m.\u001b[0m\u001b[0mfind_element_by_name\u001b[0m\u001b[1;33m(\u001b[0m\u001b[1;34m'submitData'\u001b[0m\u001b[1;33m)\u001b[0m\u001b[1;33m.\u001b[0m\u001b[0mclick\u001b[0m\u001b[1;33m(\u001b[0m\u001b[1;33m)\u001b[0m\u001b[1;33m\u001b[0m\u001b[0m\n\u001b[1;32m---> 35\u001b[1;33m         \u001b[0mtime\u001b[0m\u001b[1;33m.\u001b[0m\u001b[0msleep\u001b[0m\u001b[1;33m(\u001b[0m\u001b[1;36m1\u001b[0m\u001b[1;33m)\u001b[0m\u001b[1;33m\u001b[0m\u001b[0m\n\u001b[0m\u001b[0;32m     36\u001b[0m         \u001b[1;32mtry\u001b[0m\u001b[1;33m:\u001b[0m\u001b[1;33m\u001b[0m\u001b[0m\n\u001b[0;32m     37\u001b[0m             \u001b[0mdriver\u001b[0m\u001b[1;33m.\u001b[0m\u001b[0mfind_element_by_id\u001b[0m\u001b[1;33m(\u001b[0m\u001b[1;34m'kaptcha'\u001b[0m\u001b[1;33m)\u001b[0m\u001b[1;33m\u001b[0m\u001b[0m\n",
      "\u001b[1;31mKeyboardInterrupt\u001b[0m: "
     ]
    }
   ],
   "source": [
    "from selenium import webdriver\n",
    "import time\n",
    "# driver = webdriver.Chrome('chromedriver.exe')\n",
    "\n",
    "driver = webdriver.Firefox(executable_path=r'geckodriver.exe')\n",
    "\n",
    "success = 0\n",
    "error = 0\n",
    "num = 100\n",
    "t = 0\n",
    "\n",
    "for i in range(num):\n",
    "    if t == 0:\n",
    "        driver.get('http://gcis.nat.gov.tw/pub/cmpy/cmpyInfoListAction.do')\n",
    "\n",
    "    getVerificationCode(driver)\n",
    "\n",
    "    saveKaptcha('kaptcha.jpg', 'imagedata')\n",
    "\n",
    "    kaptcha = predictKaptcha('imagedata')\n",
    "\n",
    "    #print(kaptcha)\n",
    "\n",
    "    element = driver.find_element_by_name('queryStr')\n",
    "    if element.get_attribute('value') != '':\n",
    "        element.clear()\n",
    "\n",
    "    driver.find_element_by_name('queryStr').send_keys('台灣積體電路')\n",
    "\n",
    "    kaptcha = ''.join([str(i) for i in kaptcha])\n",
    "\n",
    "    driver.find_element_by_name('imageCode').send_keys(kaptcha)\n",
    "\n",
    "    driver.find_element_by_name('submitData').click()\n",
    "    time.sleep(1)\n",
    "    try:\n",
    "        driver.find_element_by_id('kaptcha')\n",
    "        error = error + 1\n",
    "        t = 1\n",
    "    except:\n",
    "        success = success + 1\n",
    "        t = 0\n",
    "        pass\n",
    "\n",
    "driver.quit()\n",
    "avg = success / num\n",
    "print(round(avg,2))\n",
    "print(success)"
   ]
  },
  {
   "cell_type": "code",
   "execution_count": null,
   "metadata": {},
   "outputs": [],
   "source": []
  },
  {
   "cell_type": "code",
   "execution_count": null,
   "metadata": {},
   "outputs": [],
   "source": []
  }
 ],
 "metadata": {
  "kernelspec": {
   "display_name": "Python 3",
   "language": "python",
   "name": "python3"
  },
  "language_info": {
   "codemirror_mode": {
    "name": "ipython",
    "version": 3
   },
   "file_extension": ".py",
   "mimetype": "text/x-python",
   "name": "python",
   "nbconvert_exporter": "python",
   "pygments_lexer": "ipython3",
   "version": "3.6.4"
  }
 },
 "nbformat": 4,
 "nbformat_minor": 2
}
