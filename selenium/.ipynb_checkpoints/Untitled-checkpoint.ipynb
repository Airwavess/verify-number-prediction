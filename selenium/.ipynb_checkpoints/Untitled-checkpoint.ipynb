{
 "cells": [
  {
   "cell_type": "code",
   "execution_count": 1,
   "metadata": {},
   "outputs": [],
   "source": [
    "def remove_noise():\n",
    "    from PIL import Image \n",
    "    img = Image.open('captua.jpg')\n",
    "\n",
    "    import cv2\n",
    "\n",
    "    img = cv2.imread('captua.jpg')\n",
    "    dst = cv2.fastNlMeansDenoisingColored(img, None, 30, 30, 7, 20)\n",
    "\n",
    "    ret, thresh = cv2.threshold(dst,127,255,cv2.THRESH_BINARY_INV)\n",
    "    img_arr = cv2.cvtColor(thresh, cv2.COLOR_BGR2GRAY)\n",
    "    img_arr[:, 5:115] = 0\n",
    "\n",
    "    import numpy as np\n",
    "    from sklearn.preprocessing import binarize\n",
    "\n",
    "    imagedata = np.where(img_arr == 255)\n",
    "    x = np.array([imagedata[1]])\n",
    "    y = 45 - imagedata[0]\n",
    "\n",
    "    from sklearn.preprocessing import PolynomialFeatures\n",
    "    from sklearn.linear_model import LinearRegression\n",
    "\n",
    "    poly_reg = PolynomialFeatures(degree=2)\n",
    "    x_ = poly_reg.fit_transform(x.T)\n",
    "    regr = LinearRegression()\n",
    "    regr.fit(x_, y)\n",
    "\n",
    "    x2 = np.array([[i for i in range(0, 119)]])\n",
    "    x2_ = poly_reg.fit_transform(x2.T)\n",
    "\n",
    "\n",
    "    newimg = cv2.cvtColor(thresh, cv2.COLOR_BGR2GRAY)\n",
    "\n",
    "    for ele in np.column_stack([regr.predict(x2_).round(0), x2[0],]):\n",
    "        pos = 45 - int(ele[0])\n",
    "\n",
    "        newimg[pos-3: pos+3, int(ele[1])] = 255 - newimg[pos-3:pos+3,int(ele[1])]\n",
    "\n",
    "\n",
    "    cv2.imwrite('result.jpg', newimg)\n",
    "    # plt.subplot(121)\n",
    "    # plt.imshow(thresh)\n",
    "    # plt.subplot(122)\n",
    "    # plt.imshow(newimg)"
   ]
  },
  {
   "cell_type": "code",
   "execution_count": 2,
   "metadata": {},
   "outputs": [],
   "source": [
    "def divide_number():\n",
    "    import cv2\n",
    "\n",
    "    from PIL import Image\n",
    "    image = Image.open('result.jpg')\n",
    "\n",
    "    import numpy as np\n",
    "\n",
    "    pil_image = Image.open('result.jpg').convert('RGB')\n",
    "    open_cv_image = np.array(pil_image)\n",
    "\n",
    "    from matplotlib import pyplot as plt\n",
    "    plt.imshow(open_cv_image)\n",
    "\n",
    "    imgray = cv2.cvtColor(open_cv_image, cv2.COLOR_BGR2GRAY)\n",
    "    ret, thresh = cv2.threshold(imgray, 127, 255, 0)\n",
    "    image, contours, hierarchy = cv2.findContours(thresh, cv2.RETR_TREE, cv2.CHAIN_APPROX_SIMPLE)\n",
    "\n",
    "    cnts = sorted([(c, cv2.boundingRect(c)[0]) for c in contours], key=lambda x:x[1])\n",
    "    array = []\n",
    "    for (c, _) in cnts:\n",
    "        (x, y, w, h) = cv2.boundingRect(c)\n",
    "        print((x,y,w,h))\n",
    "        if w >= 20 and w < 40 and h > 25 and h < :\n",
    "            array.append((x,y,w,h))\n",
    "\n",
    "    figure = plt.figure()\n",
    "\n",
    "    for id, (x, y, w, h) in enumerate(array):\n",
    "        roi = open_cv_image[y:y+h, x:x+w]\n",
    "        thresh = roi.copy()\n",
    "        a = figure.add_subplot(1, len(array), id+1)\n",
    "        plt.imshow(thresh)\n",
    "\n",
    "    import random\n",
    "\n",
    "    figure = plt.figure()\n",
    "\n",
    "    for id, (x, y, w, h) in enumerate(array):\n",
    "        roi = open_cv_image[y:y+h, x:x+w]\n",
    "        thresh = roi.copy()\n",
    "        plt.imshow(thresh)\n",
    "        plt.savefig('img/{}.jpg'.format(random.randint(100000,45465464654654)), dpi=100)"
   ]
  },
  {
   "cell_type": "code",
   "execution_count": 3,
   "metadata": {},
   "outputs": [],
   "source": [
    "def image_crawler():\n",
    "    from selenium import webdriver\n",
    "\n",
    "    driver = webdriver.Chrome('chromedriver.exe')\n",
    "    driver.get('http://irs.thsrc.com.tw/IMINT/')\n",
    "    driver.save_screenshot('test.png')\n",
    "    element = driver.find_element_by_id('BookingS1Form_homeCaptcha_passCode')\n",
    "\n",
    "    left = element.location['x']\n",
    "    right = element.location['x'] + element.size['width']\n",
    "    top = element.location['y'] \n",
    "    bottom = element.location['y'] + element.size['height']\n",
    "\n",
    "    from PIL import Image\n",
    "\n",
    "    img = Image.open('test.png')\n",
    "    img = img.crop((left, top, right, bottom))\n",
    "    img.save('captua.jpg', 'jpeg')"
   ]
  },
  {
   "cell_type": "code",
   "execution_count": 14,
   "metadata": {},
   "outputs": [
    {
     "name": "stdout",
     "output_type": "stream",
     "text": [
      "(0, 19, 1, 1)\n",
      "(2, 18, 3, 1)\n",
      "(6, 17, 2, 1)\n",
      "(9, 16, 3, 1)\n",
      "(13, 6, 50, 33)\n",
      "(16, 19, 3, 3)\n",
      "(16, 13, 5, 3)\n",
      "(17, 7, 3, 3)\n",
      "(19, 18, 3, 3)\n",
      "(24, 18, 3, 1)\n",
      "(28, 17, 3, 1)\n",
      "(33, 16, 3, 2)\n",
      "(36, 9, 3, 3)\n",
      "(38, 14, 5, 3)\n",
      "(40, 20, 3, 3)\n",
      "(44, 13, 4, 2)\n",
      "(47, 8, 3, 1)\n",
      "(48, 24, 3, 3)\n",
      "(50, 12, 5, 3)\n",
      "(51, 15, 3, 3)\n",
      "(54, 7, 1, 1)\n",
      "(60, 6, 4, 1)\n",
      "(63, 8, 24, 31)\n",
      "(68, 5, 6, 2)\n",
      "(69, 18, 3, 3)\n",
      "(74, 10, 3, 1)\n",
      "(75, 22, 3, 3)\n",
      "(76, 8, 1, 1)\n",
      "(77, 4, 1, 1)\n",
      "(79, 4, 5, 1)\n",
      "(87, 2, 33, 6)\n",
      "(92, 19, 1, 1)\n",
      "(94, 11, 18, 29)\n",
      "(96, 19, 3, 3)\n",
      "(102, 25, 3, 3)\n"
     ]
    },
    {
     "data": {
      "image/png": "[encoded data removed]",
      "text/plain": [
       "<matplotlib.figure.Figure at 0x5716f90>"
      ]
     },
     "metadata": {},
     "output_type": "display_data"
    },
    {
     "data": {
      "image/png": "[encoded data removed]",
      "text/plain": [
       "<matplotlib.figure.Figure at 0x62adf90>"
      ]
     },
     "metadata": {},
     "output_type": "display_data"
    },
    {
     "data": {
      "image/png": "[encoded data removed]",
      "text/plain": [
       "<matplotlib.figure.Figure at 0x62f6890>"
      ]
     },
     "metadata": {},
     "output_type": "display_data"
    }
   ],
   "source": [
    "image_crawler()\n",
    "remove_noise()\n",
    "divide_number()"
   ]
  },
  {
   "cell_type": "code",
   "execution_count": null,
   "metadata": {},
   "outputs": [],
   "source": []
  }
 ],
 "metadata": {
  "kernelspec": {
   "display_name": "Python 3",
   "language": "python",
   "name": "python3"
  },
  "language_info": {
   "codemirror_mode": {
    "name": "ipython",
    "version": 3
   },
   "file_extension": ".py",
   "mimetype": "text/x-python",
   "name": "python",
   "nbconvert_exporter": "python",
   "pygments_lexer": "ipython3",
   "version": "3.6.1"
  }
 },
 "nbformat": 4,
 "nbformat_minor": 2
}
